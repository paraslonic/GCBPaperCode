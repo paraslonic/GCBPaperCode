{
 "cells": [
  {
   "cell_type": "code",
   "execution_count": 8,
   "metadata": {},
   "outputs": [
    {
     "name": "stdout",
     "output_type": "stream",
     "text": [
      "Results\t\t\t     complete_clade_1\t    look_most_similar.ipynb\n",
      "Snakefile\t\t     complete_clade_2\t    look_most_similar.nb.html\n",
      "Untitled.ipynb\t\t     complete_genomes\t    look_most_similar.r\n",
      "Untitled1.ipynb\t\t     download.sh\t    look_tree.r\n",
      "assembly_summary_refseq.txt  fna\t\t    nucmer\n",
      "clade1.txt\t\t     genomes.url\t    perform_analysis.ipynb\n",
      "clade2.txt\t\t     look_most_similar.Rmd\n"
     ]
    }
   ],
   "source": [
    "ls"
   ]
  },
  {
   "cell_type": "code",
   "execution_count": null,
   "metadata": {},
   "outputs": [],
   "source": []
  },
  {
   "cell_type": "code",
   "execution_count": 14,
   "metadata": {},
   "outputs": [
    {
     "name": "stdout",
     "output_type": "stream",
     "text": [
      "genome\tcontig\tgene\tstart\tend\tdescription\n",
      "prokka/GCF_000009225.2_ASM922v1_genomic/GCF_000009225.2_ASM922v1_genomic\tNC_012660.1\tOG0001942\t6\t1506\tChromosomal_replication_initiator_protein_DnaA\n",
      "prokka/GCF_000009225.2_ASM922v1_genomic/GCF_000009225.2_ASM922v1_genomic\tNC_012660.1\tOG0001494\t1544\t2648\tBeta_sliding_clamp\n",
      "prokka/GCF_000009225.2_ASM922v1_genomic/GCF_000009225.2_ASM922v1_genomic\tNC_012660.1\tOG0001943\t2668\t3772\tDNA_replication_and_repair_protein_RecF\n",
      "prokka/GCF_000009225.2_ASM922v1_genomic/GCF_000009225.2_ASM922v1_genomic\tNC_012660.1\tOG0001216\t3776\t6194\tDNA_gyrase_subunit_B\n",
      "prokka/GCF_000009225.2_ASM922v1_genomic/GCF_000009225.2_ASM922v1_genomic\tNC_012660.1\tOG0003604\t6298\t7021\tTranscriptional_regulatory_protein_CseB\n",
      "prokka/GCF_000009225.2_ASM922v1_genomic/GCF_000009225.2_ASM922v1_genomic\tNC_012660.1\tOG0006278\t7307\t8240\thypothetical_protein\n",
      "prokka/GCF_000009225.2_ASM922v1_genomic/GCF_000009225.2_ASM922v1_genomic\tNC_012660.1\tOG0003616\t8243\t10523\tAdaptive-response_sensory-kinase_SasA\n",
      "prokka/GCF_000009225.2_ASM922v1_genomic/GCF_000009225.2_ASM922v1_genomic\tNC_012660.1\tOG0001944\t10705\t11476\thypothetical_protein\n",
      "prokka/GCF_000009225.2_ASM922v1_genomic/GCF_000009225.2_ASM922v1_genomic\tNC_012660.1\tOG0001945\t11558\t12095\tD-glycero-beta-D-manno-heptose-1_7-bisphosphate_7-phosphatase\n"
     ]
    }
   ],
   "source": [
    "head Results/gene_graph_genes.sif"
   ]
  },
  {
   "cell_type": "code",
   "execution_count": 33,
   "metadata": {},
   "outputs": [
    {
     "name": "stdout",
     "output_type": "stream",
     "text": [
      "Parsing... It may take a few minutes...\n",
      "\n",
      "Reversing...\n",
      "\n",
      "Database filling...\n",
      "\n",
      "Complete!\n"
     ]
    }
   ],
   "source": [
    "python ~/GIT/geneGraph/parse_og.py -i Results/Orthogroups.txt -o Results/gene_graph"
   ]
  },
  {
   "cell_type": "code",
   "execution_count": 41,
   "metadata": {},
   "outputs": [],
   "source": [
    "mkdir -p Results/complexity_clade1\n",
    "mkdir -p Results/complexity_clade2\n",
    "cp Results/gene_graph.db Results/complexity_clade1\n",
    "cp Results/gene_graph.db Results/complexity_clade2"
   ]
  },
  {
   "cell_type": "code",
   "execution_count": 36,
   "metadata": {},
   "outputs": [],
   "source": [
    "#sed -i 's/prokka.\\+\\///' Results/gene_graph_genes.sif \n",
    "sed  -i 's/prokka.\\+\\///' Results/gene_graph.sif "
   ]
  },
  {
   "cell_type": "code",
   "execution_count": 45,
   "metadata": {},
   "outputs": [
    {
     "name": "stdout",
     "output_type": "stream",
     "text": [
      "OG0001942 OG0001494 GCF_000009225.2_ASM922v1_genomic NC_012660.1 756 2096\n",
      "OG0001494 OG0001943 GCF_000009225.2_ASM922v1_genomic NC_012660.1 2096 3220\n",
      "OG0001943 OG0001216 GCF_000009225.2_ASM922v1_genomic NC_012660.1 3220 4985\n",
      "OG0001216 OG0003604 GCF_000009225.2_ASM922v1_genomic NC_012660.1 4985 6659\n",
      "OG0003604 OG0006278 GCF_000009225.2_ASM922v1_genomic NC_012660.1 6659 7773\n",
      "OG0006278 OG0003616 GCF_000009225.2_ASM922v1_genomic NC_012660.1 7773 9383\n",
      "OG0003616 OG0001944 GCF_000009225.2_ASM922v1_genomic NC_012660.1 9383 11090\n",
      "OG0001944 OG0001945 GCF_000009225.2_ASM922v1_genomic NC_012660.1 11090 11826\n",
      "OG0001945 OG0001055 GCF_000009225.2_ASM922v1_genomic NC_012660.1 11826 13124\n",
      "OG0001055 OG0001946 GCF_000009225.2_ASM922v1_genomic NC_012660.1 13124 14625\n"
     ]
    }
   ],
   "source": [
    "head Results/gene_graph.sif"
   ]
  },
  {
   "cell_type": "code",
   "execution_count": 27,
   "metadata": {},
   "outputs": [
    {
     "name": "stdout",
     "output_type": "stream",
     "text": [
      "Requirement already up-to-date: gene_graph_lib in /home/manolov/.local/lib/python3.7/site-packages (0.1.44)\n"
     ]
    }
   ],
   "source": [
    "#pip install gene_graph_lib --user --upgrade"
   ]
  },
  {
   "cell_type": "code",
   "execution_count": 43,
   "metadata": {},
   "outputs": [
    {
     "name": "stdout",
     "output_type": "stream",
     "text": [
      "geneGraph - tool to estimate genome variability\n",
      "\n",
      "usage: estimate_complexity.py [-h] -i INPUT_FILE [-o OUTPUT_DIR] --reference\n",
      "                              REFERENCE [--window WINDOW]\n",
      "                              [--iterations ITERATIONS]\n",
      "                              [--genomes_list GENOMES_LIST]\n",
      "                              [--min_depth MIN_DEPTH] [--max_depth MAX_DEPTH]\n",
      "                              [--fill_db FILL_DB]\n",
      "\n",
      "optional arguments:\n",
      "  -h, --help            show this help message and exit\n",
      "  -i INPUT_FILE, --input_file INPUT_FILE\n",
      "                        input_file (Orthofinder file)\n",
      "  -o OUTPUT_DIR, --output_dir OUTPUT_DIR\n",
      "                        Output directory\n",
      "  --reference REFERENCE\n",
      "                        name of reference genome\n",
      "  --window WINDOW       Size of window (default is 20)\n",
      "  --iterations ITERATIONS\n",
      "                        number of iterations in stat computing (default is\n",
      "                        500)\n",
      "  --genomes_list GENOMES_LIST\n",
      "                        genomes list txt file\n",
      "  --min_depth MIN_DEPTH\n",
      "                        min length of deviating path (default is 0)\n",
      "  --max_depth MAX_DEPTH\n",
      "                        max length of deviating path (default is inf)\n",
      "  --fill_db FILL_DB     db path\n"
     ]
    }
   ],
   "source": [
    "python ~/GIT/geneGraph/estimate_complexity.py -h"
   ]
  },
  {
   "cell_type": "code",
   "execution_count": 1,
   "metadata": {},
   "outputs": [
    {
     "name": "stdout",
     "output_type": "stream",
     "text": [
      "geneGraph - tool to estimate genome variability\n",
      "\n",
      "Reference is GCF_000009225.2_ASM922v1_genomic\n",
      "Number of contigs: 1\n",
      "\n",
      "Computing wth contig NC_012660.1...\n",
      "4963 gene of 4963\n",
      "Computing completed\n"
     ]
    }
   ],
   "source": [
    "python ~/GIT/geneGraph/estimate_complexity.py -i Results/gene_graph.sif --reference GCF_000009225.2_ASM922v1_genomic --genomes_list clade1.txt -o  Results/complexity_clade1 --fill_db  Results/complexity_clade1/gene_graph.db \n"
   ]
  },
  {
   "cell_type": "code",
   "execution_count": 2,
   "metadata": {},
   "outputs": [
    {
     "name": "stdout",
     "output_type": "stream",
     "text": [
      "geneGraph - tool to estimate genome variability\n",
      "\n",
      "Reference is GCF_000012445.1_ASM1244v1_genomic\n",
      "Number of contigs: 1\n",
      "\n",
      "Computing wth contig NC_007492.2...\n",
      "4833 gene of 4833\n",
      "Computing completed\n"
     ]
    }
   ],
   "source": [
    "python ~/GIT/geneGraph/estimate_complexity.py -i Results/gene_graph.sif --reference GCF_000012445.1_ASM1244v1_genomic --genomes_list clade2.txt -o  Results/complexity_clade2 --fill_db  Results/complexity_clade2/gene_graph.db \n"
   ]
  }
 ],
 "metadata": {
  "kernelspec": {
   "display_name": "Bash",
   "language": "bash",
   "name": "bash"
  },
  "language_info": {
   "codemirror_mode": "shell",
   "file_extension": ".sh",
   "mimetype": "text/x-sh",
   "name": "bash"
  }
 },
 "nbformat": 4,
 "nbformat_minor": 4
}
