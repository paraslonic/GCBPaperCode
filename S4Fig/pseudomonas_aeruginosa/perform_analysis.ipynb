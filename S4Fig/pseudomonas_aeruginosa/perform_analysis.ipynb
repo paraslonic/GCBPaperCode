{
 "cells": [
  {
   "cell_type": "code",
   "execution_count": 1,
   "metadata": {},
   "outputs": [
    {
     "data": {
      "text/plain": [
       "'/data12/bio/PROJECTS/operonTravel/GCBPaperCode/pseudomonas_aeruginosa'"
      ]
     },
     "execution_count": 1,
     "metadata": {},
     "output_type": "execute_result"
    }
   ],
   "source": [
    "pwd"
   ]
  },
  {
   "cell_type": "code",
   "execution_count": 1,
   "metadata": {},
   "outputs": [
    {
     "name": "stdout",
     "output_type": "stream",
     "text": [
      "Parsing... It may take a few minutes...\n",
      "\n",
      "Database filling...\n",
      "\n",
      "Complete!\n"
     ]
    }
   ],
   "source": [
    "python3 ~/GIT/geneGraph/parse_og.py -i Results/Orthogroups.txt -o Results/gene_graph"
   ]
  },
  {
   "cell_type": "code",
   "execution_count": 2,
   "metadata": {},
   "outputs": [],
   "source": [
    "mkdir -p Results/complexity_clade1\n",
    "mkdir -p Results/complexity_clade2\n",
    "\n",
    "cp Results/gene_graph.db Results/complexity_clade1\n",
    "cp Results/gene_graph.db Results/complexity_clade2"
   ]
  },
  {
   "cell_type": "code",
   "execution_count": 27,
   "metadata": {},
   "outputs": [
    {
     "name": "stdout",
     "output_type": "stream",
     "text": [
      "Requirement already up-to-date: gene_graph_lib in /home/manolov/.local/lib/python3.7/site-packages (0.1.44)\n"
     ]
    }
   ],
   "source": [
    "#pip install gene_graph_lib --user --upgrade"
   ]
  },
  {
   "cell_type": "code",
   "execution_count": 3,
   "metadata": {},
   "outputs": [],
   "source": [
    "#head Results/gene_graph.sif\n",
    "sed -i 's/\\.fna//' clade1.txt\n",
    "sed -i 's/\\.fna//' clade2.txt\n"
   ]
  },
  {
   "cell_type": "code",
   "execution_count": 4,
   "metadata": {},
   "outputs": [],
   "source": [
    "ref1=\"GCF_000504045.1_ASM50404v1_genomic\"\n",
    "ref2=\"GCF_000981825.1_ASM98182v1_genomic\"\n"
   ]
  },
  {
   "cell_type": "code",
   "execution_count": 5,
   "metadata": {},
   "outputs": [],
   "source": [
    "python3 ~/GIT/geneGraph/estimate_complexity.py -i Results/gene_graph.sif --reference $ref1 --genomes_list clade1.txt -o  Results/complexity_clade1 --fill_db  Results/complexity_clade1/gene_graph.db >> log\n",
    "python3 ~/GIT/geneGraph/estimate_complexity.py -i Results/gene_graph.sif --reference $ref2 --genomes_list clade2.txt -o  Results/complexity_clade2 --fill_db  Results/complexity_clade2/gene_graph.db >> log\n"
   ]
  },
  {
   "cell_type": "markdown",
   "metadata": {},
   "source": [
    "## align with MAUVE"
   ]
  },
  {
   "cell_type": "code",
   "execution_count": 11,
   "metadata": {},
   "outputs": [],
   "source": [
    "mkdir -p ref"
   ]
  },
  {
   "cell_type": "code",
   "execution_count": 12,
   "metadata": {},
   "outputs": [],
   "source": [
    "cp fna/$ref1.fna ref\n",
    "cp fna/$ref2.fna ref"
   ]
  },
  {
   "cell_type": "code",
   "execution_count": 13,
   "metadata": {},
   "outputs": [],
   "source": [
    "cd ref\n",
    "ln -s $ref1 ref1.fasta\n",
    "ln -s $ref2 ref2.fasta\n",
    "cd .."
   ]
  },
  {
   "cell_type": "code",
   "execution_count": 14,
   "metadata": {},
   "outputs": [],
   "source": [
    "mkdir -p mauve\n",
    "ls mauve"
   ]
  },
  {
   "cell_type": "code",
   "execution_count": 15,
   "metadata": {},
   "outputs": [],
   "source": [
    "# mauve 1 4\n",
    "\n",
    "/data11/bio/BacGenomeSoft/mauve/linux-x64/./progressiveMauve ref/$ref1.fna ref/$ref2.fna --backbone-output mauve/mauve_1_2.backbone > mauve.log"
   ]
  },
  {
   "cell_type": "code",
   "execution_count": 16,
   "metadata": {},
   "outputs": [
    {
     "name": "stdout",
     "output_type": "stream",
     "text": [
      "mauve_1_2.backbone\n"
     ]
    }
   ],
   "source": [
    "ls mauve"
   ]
  }
 ],
 "metadata": {
  "kernelspec": {
   "display_name": "Bash",
   "language": "bash",
   "name": "bash"
  },
  "language_info": {
   "codemirror_mode": "shell",
   "file_extension": ".sh",
   "mimetype": "text/x-sh",
   "name": "bash"
  }
 },
 "nbformat": 4,
 "nbformat_minor": 4
}
